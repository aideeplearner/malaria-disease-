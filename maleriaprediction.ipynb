{
 "cells": [
  {
   "cell_type": "code",
   "execution_count": 30,
   "id": "846ee4cb",
   "metadata": {},
   "outputs": [],
   "source": [
    "import numpy as np \n",
    "import pandas as pd \n",
    "import matplotlib.pyplot as plt\n",
    "\n",
    "import tensorflow as tf\n",
    "from tensorflow.keras import models, layers\n",
    "\n",
    "import warnings \n",
    "warnings.filterwarnings(\"ignore\")\n",
    "import os\n",
    "os.environ['TF_CPP_MIN_LOG_LEVEL'] = '2'"
   ]
  },
  {
   "cell_type": "code",
   "execution_count": 31,
   "id": "b0be05ec",
   "metadata": {},
   "outputs": [],
   "source": [
    "folder=r\"C:\\Users\\thota\\OneDrive\\Pictures\\malharsh\\Dataset\\Train\""
   ]
  },
  {
   "cell_type": "code",
   "execution_count": 32,
   "id": "651f7b9d",
   "metadata": {},
   "outputs": [],
   "source": [
    "tf.keras.utils.image_dataset_from_directory??"
   ]
  },
  {
   "cell_type": "code",
   "execution_count": 33,
   "id": "ebfc7219",
   "metadata": {},
   "outputs": [
    {
     "name": "stdout",
     "output_type": "stream",
     "text": [
      "Found 416 files belonging to 2 classes.\n"
     ]
    }
   ],
   "source": [
    "data=tf.keras.utils.image_dataset_from_directory(folder,image_size=(50,50),class_names=[\"Parasite\",\"Uninfected\"])"
   ]
  },
  {
   "cell_type": "code",
   "execution_count": 34,
   "id": "c5aeed60",
   "metadata": {},
   "outputs": [],
   "source": [
    "data_iterator=data.as_numpy_iterator()"
   ]
  },
  {
   "cell_type": "code",
   "execution_count": 35,
   "id": "ee15603a",
   "metadata": {},
   "outputs": [],
   "source": [
    "batch=data_iterator.next()"
   ]
  },
  {
   "cell_type": "code",
   "execution_count": 36,
   "id": "04297e1b",
   "metadata": {},
   "outputs": [
    {
     "data": {
      "text/plain": [
       "252.38882"
      ]
     },
     "execution_count": 36,
     "metadata": {},
     "output_type": "execute_result"
    }
   ],
   "source": [
    "batch[0].max()"
   ]
  },
  {
   "cell_type": "code",
   "execution_count": 37,
   "id": "30498547",
   "metadata": {},
   "outputs": [
    {
     "name": "stderr",
     "output_type": "stream",
     "text": [
      "Clipping input data to the valid range for imshow with RGB data ([0..1] for floats or [0..255] for integers).\n"
     ]
    },
    {
     "data": {
      "text/plain": [
       "<matplotlib.image.AxesImage at 0x189fcbca830>"
      ]
     },
     "execution_count": 37,
     "metadata": {},
     "output_type": "execute_result"
    },
    {
     "data": {
      "image/png": "[encoded data removed]",
      "text/plain": [
       "<Figure size 640x480 with 1 Axes>"
      ]
     },
     "metadata": {},
     "output_type": "display_data"
    }
   ],
   "source": [
    "plt.imshow(batch[0][0])"
   ]
  },
  {
   "cell_type": "code",
   "execution_count": 38,
   "id": "7650f666",
   "metadata": {},
   "outputs": [],
   "source": [
    "data=data.map(lambda x,y:(x/255,y))"
   ]
  },
  {
   "cell_type": "code",
   "execution_count": 39,
   "id": "c5ff0525",
   "metadata": {},
   "outputs": [
    {
     "data": {
      "text/plain": [
       "0.99890196"
      ]
     },
     "execution_count": 39,
     "metadata": {},
     "output_type": "execute_result"
    }
   ],
   "source": [
    "data.as_numpy_iterator().next()[0].max()"
   ]
  },
  {
   "cell_type": "markdown",
   "id": "50905ebf",
   "metadata": {},
   "source": [
    "# splitting of our data "
   ]
  },
  {
   "cell_type": "code",
   "execution_count": 40,
   "id": "6cec0fe6",
   "metadata": {},
   "outputs": [
    {
     "data": {
      "text/plain": [
       "13"
      ]
     },
     "execution_count": 40,
     "metadata": {},
     "output_type": "execute_result"
    }
   ],
   "source": [
    "len(data)"
   ]
  },
  {
   "cell_type": "code",
   "execution_count": 41,
   "id": "bf0d9543",
   "metadata": {},
   "outputs": [],
   "source": [
    "train_size=int(len(data)*0.7)\n",
    "val_size=int(len(data)*0.2)\n",
    "test_size=int(len(data)*0.1)"
   ]
  },
  {
   "cell_type": "code",
   "execution_count": 42,
   "id": "3af54628",
   "metadata": {},
   "outputs": [
    {
     "data": {
      "text/plain": [
       "(9, 2, 1)"
      ]
     },
     "execution_count": 42,
     "metadata": {},
     "output_type": "execute_result"
    }
   ],
   "source": [
    "train_size,val_size,test_size"
   ]
  },
  {
   "cell_type": "code",
   "execution_count": 43,
   "id": "e38209de",
   "metadata": {},
   "outputs": [],
   "source": [
    "train=data.take(train_size)\n",
    "val=data.skip(train_size).take(val_size)\n",
    "test=data.skip(train_size+val_size).take(test_size)"
   ]
  },
  {
   "cell_type": "code",
   "execution_count": 44,
   "id": "4b89efb3",
   "metadata": {},
   "outputs": [],
   "source": [
    "input_shape=(50,50,3)"
   ]
  },
  {
   "cell_type": "code",
   "execution_count": 45,
   "id": "95bb3beb",
   "metadata": {},
   "outputs": [],
   "source": [
    "model = models.Sequential([\n",
    "    layers.Conv2D(64, (3,3), activation = 'relu', input_shape = input_shape),\n",
    "    layers.MaxPooling2D((2,2)),\n",
    "    layers.Conv2D(128, (3,3), activation = 'relu', padding ='SAME'),\n",
    "    layers.MaxPool2D((2,2)),\n",
    "    layers.Conv2D(256, (3,3), activation = 'relu',padding ='SAME'),\n",
    "    layers.MaxPool2D((2,2)),\n",
    "    layers.Flatten(),\n",
    "    layers.Dense(128, activation = 'relu'),\n",
    "    layers.Dense(64, activation = 'relu'),\n",
    "    layers.Dense(1, activation= 'sigmoid')\n",
    "    \n",
    "])"
   ]
  },
  {
   "cell_type": "code",
   "execution_count": 46,
   "id": "71f1c3ed",
   "metadata": {},
   "outputs": [
    {
     "name": "stdout",
     "output_type": "stream",
     "text": [
      "Model: \"sequential_1\"\n",
      "_________________________________________________________________\n",
      " Layer (type)                Output Shape              Param #   \n",
      "=================================================================\n",
      " conv2d_3 (Conv2D)           (None, 48, 48, 64)        1792      \n",
      "                                                                 \n",
      " max_pooling2d_3 (MaxPooling  (None, 24, 24, 64)       0         \n",
      " 2D)                                                             \n",
      "                                                                 \n",
      " conv2d_4 (Conv2D)           (None, 24, 24, 128)       73856     \n",
      "                                                                 \n",
      " max_pooling2d_4 (MaxPooling  (None, 12, 12, 128)      0         \n",
      " 2D)                                                             \n",
      "                                                                 \n",
      " conv2d_5 (Conv2D)           (None, 12, 12, 256)       295168    \n",
      "                                                                 \n",
      " max_pooling2d_5 (MaxPooling  (None, 6, 6, 256)        0         \n",
      " 2D)                                                             \n",
      "                                                                 \n",
      " flatten_1 (Flatten)         (None, 9216)              0         \n",
      "                                                                 \n",
      " dense_3 (Dense)             (None, 128)               1179776   \n",
      "                                                                 \n",
      " dense_4 (Dense)             (None, 64)                8256      \n",
      "                                                                 \n",
      " dense_5 (Dense)             (None, 1)                 65        \n",
      "                                                                 \n",
      "=================================================================\n",
      "Total params: 1,558,913\n",
      "Trainable params: 1,558,913\n",
      "Non-trainable params: 0\n",
      "_________________________________________________________________\n"
     ]
    }
   ],
   "source": [
    "model.summary()"
   ]
  },
  {
   "cell_type": "code",
   "execution_count": 47,
   "id": "1cdb7f25",
   "metadata": {},
   "outputs": [],
   "source": [
    "model.compile(\n",
    "    optimizer= 'adam',\n",
    "    loss = 'binary_crossentropy',\n",
    "    metrics = ['accuracy']\n",
    ")"
   ]
  },
  {
   "cell_type": "code",
   "execution_count": 48,
   "id": "d5028d53",
   "metadata": {},
   "outputs": [
    {
     "name": "stdout",
     "output_type": "stream",
     "text": [
      "Epoch 1/30\n",
      "9/9 [==============================] - 3s 247ms/step - loss: 0.6919 - accuracy: 0.5486 - val_loss: 0.6915 - val_accuracy: 0.5938\n",
      "Epoch 2/30\n",
      "9/9 [==============================] - 2s 218ms/step - loss: 0.6838 - accuracy: 0.5833 - val_loss: 0.6959 - val_accuracy: 0.4844\n",
      "Epoch 3/30\n",
      "9/9 [==============================] - 2s 226ms/step - loss: 0.6665 - accuracy: 0.5938 - val_loss: 0.6312 - val_accuracy: 0.7969\n",
      "Epoch 4/30\n",
      "9/9 [==============================] - 2s 219ms/step - loss: 0.6289 - accuracy: 0.6632 - val_loss: 0.5368 - val_accuracy: 0.7656\n",
      "Epoch 5/30\n",
      "9/9 [==============================] - 2s 213ms/step - loss: 0.4833 - accuracy: 0.7743 - val_loss: 1.0208 - val_accuracy: 0.5000\n",
      "Epoch 6/30\n",
      "9/9 [==============================] - 2s 206ms/step - loss: 0.7580 - accuracy: 0.5694 - val_loss: 0.6517 - val_accuracy: 0.6094\n",
      "Epoch 7/30\n",
      "9/9 [==============================] - 2s 205ms/step - loss: 0.6299 - accuracy: 0.6076 - val_loss: 0.5574 - val_accuracy: 0.8750\n",
      "Epoch 8/30\n",
      "9/9 [==============================] - 2s 207ms/step - loss: 0.5049 - accuracy: 0.7812 - val_loss: 0.4624 - val_accuracy: 0.8750\n",
      "Epoch 9/30\n",
      "9/9 [==============================] - 2s 211ms/step - loss: 0.4298 - accuracy: 0.8750 - val_loss: 0.3223 - val_accuracy: 0.9062\n",
      "Epoch 10/30\n",
      "9/9 [==============================] - 2s 207ms/step - loss: 0.2920 - accuracy: 0.8924 - val_loss: 0.1417 - val_accuracy: 0.9688\n",
      "Epoch 11/30\n",
      "9/9 [==============================] - 2s 205ms/step - loss: 0.2568 - accuracy: 0.8958 - val_loss: 0.1991 - val_accuracy: 0.9375\n",
      "Epoch 12/30\n",
      "9/9 [==============================] - 2s 205ms/step - loss: 0.2256 - accuracy: 0.9236 - val_loss: 0.2409 - val_accuracy: 0.9219\n",
      "Epoch 13/30\n",
      "9/9 [==============================] - 2s 205ms/step - loss: 0.2100 - accuracy: 0.9375 - val_loss: 0.2371 - val_accuracy: 0.8906\n",
      "Epoch 14/30\n",
      "9/9 [==============================] - 2s 205ms/step - loss: 0.1571 - accuracy: 0.9410 - val_loss: 0.1836 - val_accuracy: 0.9219\n",
      "Epoch 15/30\n",
      "9/9 [==============================] - 2s 208ms/step - loss: 0.1831 - accuracy: 0.9375 - val_loss: 0.2265 - val_accuracy: 0.9375\n",
      "Epoch 16/30\n",
      "9/9 [==============================] - 2s 216ms/step - loss: 0.2242 - accuracy: 0.9097 - val_loss: 0.1625 - val_accuracy: 0.9375\n",
      "Epoch 17/30\n",
      "9/9 [==============================] - 2s 213ms/step - loss: 0.1404 - accuracy: 0.9444 - val_loss: 0.2040 - val_accuracy: 0.9219\n",
      "Epoch 18/30\n",
      "9/9 [==============================] - 2s 208ms/step - loss: 0.1264 - accuracy: 0.9549 - val_loss: 0.1628 - val_accuracy: 0.9531\n",
      "Epoch 19/30\n",
      "9/9 [==============================] - 2s 217ms/step - loss: 0.1103 - accuracy: 0.9653 - val_loss: 0.1169 - val_accuracy: 0.9531\n",
      "Epoch 20/30\n",
      "9/9 [==============================] - 2s 230ms/step - loss: 0.1026 - accuracy: 0.9653 - val_loss: 0.1430 - val_accuracy: 0.9375\n",
      "Epoch 21/30\n",
      "9/9 [==============================] - 2s 234ms/step - loss: 0.1950 - accuracy: 0.9479 - val_loss: 0.1541 - val_accuracy: 0.9375\n",
      "Epoch 22/30\n",
      "9/9 [==============================] - 2s 244ms/step - loss: 0.0981 - accuracy: 0.9688 - val_loss: 0.0602 - val_accuracy: 0.9844\n",
      "Epoch 23/30\n",
      "9/9 [==============================] - 2s 238ms/step - loss: 0.0992 - accuracy: 0.9618 - val_loss: 0.0955 - val_accuracy: 0.9375\n",
      "Epoch 24/30\n",
      "9/9 [==============================] - 2s 239ms/step - loss: 0.1318 - accuracy: 0.9583 - val_loss: 0.1562 - val_accuracy: 0.9219\n",
      "Epoch 25/30\n",
      "9/9 [==============================] - 2s 248ms/step - loss: 0.1094 - accuracy: 0.9618 - val_loss: 0.0699 - val_accuracy: 0.9688\n",
      "Epoch 26/30\n",
      "9/9 [==============================] - 2s 235ms/step - loss: 0.1522 - accuracy: 0.9479 - val_loss: 0.1652 - val_accuracy: 0.9531\n",
      "Epoch 27/30\n",
      "9/9 [==============================] - 2s 237ms/step - loss: 0.0828 - accuracy: 0.9688 - val_loss: 0.0289 - val_accuracy: 1.0000\n",
      "Epoch 28/30\n",
      "9/9 [==============================] - 2s 235ms/step - loss: 0.0611 - accuracy: 0.9792 - val_loss: 0.0405 - val_accuracy: 0.9688\n",
      "Epoch 29/30\n",
      "9/9 [==============================] - 2s 233ms/step - loss: 0.0400 - accuracy: 0.9931 - val_loss: 0.0472 - val_accuracy: 0.9844\n",
      "Epoch 30/30\n",
      "9/9 [==============================] - 2s 225ms/step - loss: 0.0405 - accuracy: 0.9861 - val_loss: 0.0233 - val_accuracy: 1.0000\n"
     ]
    }
   ],
   "source": [
    "history = model.fit(train,\n",
    "         epochs= 30,\n",
    "         validation_data= val)\n"
   ]
  },
  {
   "cell_type": "code",
   "execution_count": 49,
   "id": "4d1e7e34",
   "metadata": {},
   "outputs": [
    {
     "name": "stdout",
     "output_type": "stream",
     "text": [
      "1/1 [==============================] - 0s 276ms/step - loss: 0.0352 - accuracy: 1.0000\n"
     ]
    },
    {
     "data": {
      "text/plain": [
       "[0.035166315734386444, 1.0]"
      ]
     },
     "execution_count": 49,
     "metadata": {},
     "output_type": "execute_result"
    }
   ],
   "source": [
    "model.evaluate(test)"
   ]
  },
  {
   "cell_type": "code",
   "execution_count": 50,
   "id": "10ae98aa",
   "metadata": {},
   "outputs": [],
   "source": [
    "EPOCHS=30"
   ]
  },
  {
   "cell_type": "code",
   "execution_count": 51,
   "id": "c564a471",
   "metadata": {},
   "outputs": [],
   "source": [
    "# Getting the model history to analyse\n",
    "train_loss = history.history['loss']\n",
    "train_acc = history.history['accuracy']\n",
    "\n",
    "val_loss = history.history['val_loss']\n",
    "val_acc = history.history['val_accuracy']"
   ]
  },
  {
   "cell_type": "code",
   "execution_count": 52,
   "id": "881f6cc1",
   "metadata": {},
   "outputs": [
    {
     "data": {
      "text/plain": [
       "Text(0.5, 1.0, 'Training and Validation Loss')"
      ]
     },
     "execution_count": 52,
     "metadata": {},
     "output_type": "execute_result"
    },
    {
     "data": {
      "image/png": "[encoded data removed]",
      "text/plain": [
       "<Figure size 1500x1500 with 2 Axes>"
      ]
     },
     "metadata": {},
     "output_type": "display_data"
    }
   ],
   "source": [
    "#graphs for accuracy and loss of training and validation data\n",
    "plt.figure(figsize = (15,15))\n",
    "plt.subplot(2,3,1)\n",
    "plt.plot(range(EPOCHS), train_acc, label = 'Training Accuracy')\n",
    "plt.plot(range(EPOCHS), val_acc, label = 'Validation Accuracy')\n",
    "plt.legend(loc = 'lower right')\n",
    "plt.title('Training and Validation Accuracy') \n",
    "\n",
    "plt.subplot(2,3,2)\n",
    "plt.plot(range(EPOCHS), train_loss, label = 'Training Loss')\n",
    "plt.plot(range(EPOCHS), val_loss, label = 'Validation Loss')\n",
    "plt.legend(loc = 'upper right')\n",
    "plt.title('Training and Validation Loss')"
   ]
  },
  {
   "cell_type": "code",
   "execution_count": 53,
   "id": "fbbdf730",
   "metadata": {},
   "outputs": [],
   "source": [
    "model.save('malaria_mass.h5')"
   ]
  },
  {
   "cell_type": "code",
   "execution_count": 54,
   "id": "0fcb5139",
   "metadata": {},
   "outputs": [],
   "source": [
    "import cv2"
   ]
  },
  {
   "cell_type": "code",
   "execution_count": 55,
   "id": "b9a8ab8c",
   "metadata": {},
   "outputs": [],
   "source": [
    "def predict_malaria(img):\n",
    "    image=cv2.imread(img)\n",
    "    resize=tf.image.resize(image,(50,50))\n",
    "    scale=np.expand_dims(resize/255,0)\n",
    "    pred=model.predict(scale)\n",
    "    return pred\n",
    "    \n",
    "    \n",
    "    \n",
    "    "
   ]
  },
  {
   "cell_type": "code",
   "execution_count": 69,
   "id": "1f560d79",
   "metadata": {},
   "outputs": [
    {
     "name": "stdout",
     "output_type": "stream",
     "text": [
      "1/1 [==============================] - 0s 25ms/step\n",
      "malaria\n"
     ]
    }
   ],
   "source": [
    "x=predict_malaria(r\"C:\\Users\\thota\\OneDrive\\Pictures\\malharsh\\Dataset\\Test\\Parasite\\C39P4thinF_original_IMG_20150622_105554_cell_24.png\")\n",
    "if x>0.5:\n",
    "    print(\"dont have malaria\")\n",
    "else:\n",
    "    print(\"malaria\")"
   ]
  },
  {
   "cell_type": "code",
   "execution_count": null,
   "id": "3d18cb61",
   "metadata": {},
   "outputs": [],
   "source": []
  },
  {
   "cell_type": "code",
   "execution_count": null,
   "id": "bf42a459",
   "metadata": {},
   "outputs": [],
   "source": []
  },
  {
   "cell_type": "code",
   "execution_count": null,
   "id": "f86ed835",
   "metadata": {},
   "outputs": [],
   "source": []
  },
  {
   "cell_type": "code",
   "execution_count": null,
   "id": "5d4da5f0",
   "metadata": {},
   "outputs": [],
   "source": []
  }
 ],
 "metadata": {
  "kernelspec": {
   "display_name": "Python 3 (ipykernel)",
   "language": "python",
   "name": "python3"
  },
  "language_info": {
   "codemirror_mode": {
    "name": "ipython",
    "version": 3
   },
   "file_extension": ".py",
   "mimetype": "text/x-python",
   "name": "python",
   "nbconvert_exporter": "python",
   "pygments_lexer": "ipython3",
   "version": "3.10.8"
  }
 },
 "nbformat": 4,
 "nbformat_minor": 5
}
